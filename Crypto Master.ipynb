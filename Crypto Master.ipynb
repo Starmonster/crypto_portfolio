{
 "cells": [
  {
   "cell_type": "markdown",
   "metadata": {},
   "source": [
    "# Crypto Currency Portfolio Tracker\n",
    "\n",
    "In this project we aim to build a crytpo portfolio tracker, dashboard and analytics web app. We'll be using the coingecko API in the first instance to call in the data and then we'll use streamlit and heroku to deploy an application to the web for user interface and on the go tracking. "
   ]
  },
  {
   "cell_type": "markdown",
   "metadata": {},
   "source": [
    "This notebook will act as the master notebook for the main project functions, interfaces and testing."
   ]
  },
  {
   "cell_type": "code",
   "execution_count": 2,
   "metadata": {},
   "outputs": [],
   "source": [
    "# Import libraries and coingecko\n",
    "import pandas as pd\n",
    "import requests\n",
    "import matplotlib.pyplot as plt\n",
    "import numpy as np\n",
    "\n",
    "import datetime\n",
    "import time\n",
    "\n",
    "import warnings\n",
    "warnings.filterwarnings(\"ignore\")"
   ]
  },
  {
   "cell_type": "code",
   "execution_count": 3,
   "metadata": {},
   "outputs": [],
   "source": [
    "import pickle"
   ]
  },
  {
   "cell_type": "code",
   "execution_count": 22,
   "metadata": {},
   "outputs": [],
   "source": [
    "plt.style.use(\"fivethirtyeight\")"
   ]
  },
  {
   "cell_type": "code",
   "execution_count": 23,
   "metadata": {},
   "outputs": [],
   "source": [
    "from pycoingecko import CoinGeckoAPI\n",
    "cg = CoinGeckoAPI()"
   ]
  },
  {
   "cell_type": "markdown",
   "metadata": {},
   "source": [
    "## API CALL\n",
    "First we'll write the function that calls in the coingecko api"
   ]
  },
  {
   "cell_type": "code",
   "execution_count": 67,
   "metadata": {},
   "outputs": [],
   "source": [
    "def api_call(port_list):\n",
    "    \n",
    "    \"\"\"\n",
    "    In this function we'll execute the following tasks\n",
    "    1. Take a list of crypto currencies provided by the user and call in the coin's history and other data from \n",
    "    coingecko.\n",
    "    2. Store the information in a portfolio dictionary\n",
    "    3. Return the dictionary for investigation and storage elsewhere\n",
    "    \n",
    "    \"\"\"\n",
    "    \n",
    "    # we only want the set of tokens in the port_list\n",
    "    port_set = list(set(port_list))\n",
    "    \n",
    "    port_dict = {}\n",
    "\n",
    "    for i in range(len(port_set)):\n",
    "\n",
    "        # Create a master key, which will be equal to the name of the token\n",
    "        master_key = port_set[i]\n",
    "\n",
    "        # Set our sub keys which is the description of every piece of info we'll hold on a token\n",
    "        sub_keys = [\"ticker\", \"quote\", \"price_history\"]\n",
    "\n",
    "        # Set an empty values list that will hold the called in information\n",
    "        values = []\n",
    "\n",
    "\n",
    "\n",
    "        # Call in the history, access the ticker and append to the values list\n",
    "        history = cg.get_coin_history_by_id(id=port_set[i], vs_currencies='usd', date='30-12-2020')\n",
    "        ticker = history[\"symbol\"]\n",
    "        values.append(ticker)\n",
    "\n",
    "        # Call in the quote and append to the values\n",
    "        quote = cg.get_price(ids=port_set[i], vs_currencies='usd')[port_set[i]][\"usd\"]\n",
    "        values.append(quote)\n",
    "\n",
    "        # Call in the chart \n",
    "        chart = cg.get_coin_market_chart_by_id(id=port_set[i], vs_currency='usd', days=90)\n",
    "\n",
    "        # Create a token dictionary on every iteration, store our key value pairs including prices\n",
    "        token_dict = {master_key : {sub_keys[0]: values[0], sub_keys[1]: values[1], sub_keys[2]: chart}}\n",
    "\n",
    "        # Add the token dictionary to the master portfolio dictionary\n",
    "        port_dict.update(token_dict)\n",
    "\n",
    "        # Print to see progress through api calls - seems slow\n",
    "        print(i)\n",
    "\n",
    "        # Wait a few seconds between each iteration, help the api as url timing out and api sluggish\n",
    "        time.sleep(30)\n",
    "    \n",
    "    return port_dict\n"
   ]
  },
  {
   "cell_type": "markdown",
   "metadata": {},
   "source": [
    "## User Setup\n",
    "We'll now construct a function that will act as the user profile setup. Here we'll ask the user which cryptos they hold, how much they hold and transaction details. "
   ]
  },
  {
   "cell_type": "code",
   "execution_count": 68,
   "metadata": {},
   "outputs": [],
   "source": [
    "def user_setup():\n",
    "    \n",
    "    \"\"\"\n",
    "    In this function we will set up the initial user portfolio, we'll ask the following questions and store their coin\n",
    "    portfolio which will include the coin name, historical price data, ticker and portfolio history:\n",
    "    Questions / Actions\n",
    "    1. Ask user which coins they hold, add each coin to a list\n",
    "    2. Ask the user the date of the purchase, add each transaction date to a list\n",
    "    3. Ask how many of each coin was purchased, add each quantity to a list\n",
    "    4. Pass the list of coins as an argument to the api_call function to allow all data to be called in.\n",
    "    \n",
    "    Once the user has added all coins in their portfolio we can exit the set up and return the portfolio data as a \n",
    "    dictionary alongside a transaction history stored as a dataframe\n",
    "    \"\"\"\n",
    "    \n",
    "    # First we'll create a suite of empty lists to store each coin's data\n",
    "    port_list = []\n",
    "    purchase_dates = []\n",
    "    cost_list = []\n",
    "    qty_list = []\n",
    "    \n",
    "    # We will assume a user has more coins to add to their portfolio unless they express otherwise\n",
    "    more_coins = \"yes\"\n",
    "    \n",
    "    # We need to know the full set of available coins in the coingecko database\n",
    "    coins_list = cg.get_coins_list()\n",
    "    # We'll be searching by coin ids so let's store the coin ids in a list\n",
    "    ids = [item[\"id\"] for item in coins_list]\n",
    "    \n",
    "    \n",
    "    # Create the user setup interface\n",
    "    for i in range(100): # Let's assume no-one with more than 100 coins in their portfolio(make a note on the webpage)\n",
    "        \n",
    "        # Assume how user wants to add coins to his portfolio at this setup stage\n",
    "        if more_coins == \"yes\":\n",
    "\n",
    "            # Ask the user for the name of a coin they wish to add to their portfolio\n",
    "            coin_name = input(\"Type in the name of a coin in your portfolio: \") # eth, vet, btc etc etc\n",
    "            \n",
    "            # Check user has entered a valid coin id, if not, ask the user to retry\n",
    "\n",
    "            while coin_name:\n",
    "                if coin_name in ids: # Does the coin exist in the set of all available coins?\n",
    "                    print(coin_name)\n",
    "                    break\n",
    "                else:\n",
    "                    coin_name = input(\"That coin has not been found, please try again. Refer to catalogue for \\\n",
    "                    full list of cryto ids\")\n",
    "            \n",
    "            # Ask the user the date on which the coin was purchased\n",
    "            date = input(\"What was the purchase date:(yyyy-mm-dd) \") # 2020-10-23\n",
    "            \n",
    "            # Check the user has entered a valid date, otherwise ask for a re-entry\n",
    "            date_format = \"%Y-%m-%d\"\n",
    "            while date:\n",
    "                try:\n",
    "                    datetime.datetime.strptime(date, date_format)\n",
    "                    print(\"This is the correct date format\")\n",
    "                    break\n",
    "                except ValueError:\n",
    "                    print(\"Please enter a valid date in yyyy-mm-dd format\")\n",
    "                    date= input(\"date\")\n",
    "\n",
    "            \n",
    "            \n",
    "            \n",
    "            cost = float(input(\"What was the purchase cost:(USD) \")) # 250\n",
    "            quantity = float(input(\"How many of this coin did you buy: \")) # 1500.0 will be stored as a float\n",
    "            \n",
    "        \n",
    "\n",
    "\n",
    "            # Append the details to the relevant lists, note we should append None where no answer given\n",
    "            port_list.append(coin_name)\n",
    "            purchase_dates.append(date)\n",
    "            cost_list.append(cost)\n",
    "            qty_list.append(quantity)\n",
    "                \n",
    "        \n",
    "            \n",
    "        # Ask the user if they have anymore coins to add to the portfolio\n",
    "            \n",
    "        more = input(\"Do you have anymore coins to add to your portfolio? y/n \")\n",
    "        \n",
    "        # Check the user has entered a valid request - if not redirect them to re-enter\n",
    "        while more:\n",
    "            if more.lower() == 'y' or more.lower() == \"yes\":\n",
    "                break\n",
    "            elif more.lower() =='n' or more.lower() == \"no\":\n",
    "                break\n",
    "            else:\n",
    "                more = input(\"Please enter 'y' or 'n' to continue\")\n",
    "        \n",
    "        # If we have more coins to add to the portfolio then bo back to question 1 (coin_name)\n",
    "        if more.lower() == \"y\" or more.lower() == \"yes\":\n",
    "            continue\n",
    "        else:\n",
    "            break\n",
    "    print(port_list)\n",
    "    \n",
    "    ## Call the api based on the port list\n",
    "    portfolio = api_call(port_list) # Bear in mind the api will want only unique values from our port_list\n",
    "    \n",
    "    # Create a purchase history from our lists at top of page\n",
    "    transaction_history = pd.DataFrame()\n",
    "    \n",
    "    transaction_history[\"name\"] = port_list\n",
    "    transaction_history[\"date\"] = purchase_dates ### This needs to be switched to datetime format\n",
    "    transaction_history[\"cost\"] = cost_list\n",
    "    transaction_history[\"quantity\"] = qty_list\n",
    "    \n",
    "    \n",
    "    \n",
    "    \n",
    "    return portfolio, transaction_history\n",
    "        "
   ]
  },
  {
   "cell_type": "code",
   "execution_count": 71,
   "metadata": {},
   "outputs": [
    {
     "name": "stdout",
     "output_type": "stream",
     "text": [
      "Type in the name of a coin in your portfolio: bitcoin\n",
      "bitcoin\n",
      "What was the purchase date:(yyyy-mm-dd) 2021-01-16\n",
      "This is the correct date format\n",
      "What was the purchase cost:(USD) 1000\n",
      "How many of this coin did you buy: 0.3\n",
      "Do you have anymore coins to add to your portfolio? y/n y\n",
      "Type in the name of a coin in your portfolio: ethereum\n",
      "ethereum\n",
      "What was the purchase date:(yyyy-mm-dd) 2021-02-20\n",
      "This is the correct date format\n",
      "What was the purchase cost:(USD) 2000\n",
      "How many of this coin did you buy: 1.2\n",
      "Do you have anymore coins to add to your portfolio? y/n y\n",
      "Type in the name of a coin in your portfolio: vechain\n",
      "vechain\n",
      "What was the purchase date:(yyyy-mm-dd) 2021-01-10\n",
      "This is the correct date format\n",
      "What was the purchase cost:(USD) 400\n",
      "How many of this coin did you buy: 3000\n",
      "Do you have anymore coins to add to your portfolio? y/n y\n",
      "Type in the name of a coin in your portfolio: maker\n",
      "maker\n",
      "What was the purchase date:(yyyy-mm-dd) 2021-03-06\n",
      "This is the correct date format\n",
      "What was the purchase cost:(USD) 500\n",
      "How many of this coin did you buy: 0.8\n",
      "Do you have anymore coins to add to your portfolio? y/n n\n",
      "['bitcoin', 'ethereum', 'vechain', 'maker']\n",
      "0\n",
      "1\n",
      "2\n",
      "3\n"
     ]
    }
   ],
   "source": [
    "# Call the user setup to build our portfolio\n",
    "\n",
    "portfolio, transactions = user_setup()"
   ]
  },
  {
   "cell_type": "code",
   "execution_count": 72,
   "metadata": {},
   "outputs": [
    {
     "data": {
      "text/plain": [
       "dict_keys(['bitcoin', 'maker', 'ethereum', 'vechain'])"
      ]
     },
     "execution_count": 72,
     "metadata": {},
     "output_type": "execute_result"
    }
   ],
   "source": [
    "portfolio.keys()"
   ]
  },
  {
   "cell_type": "code",
   "execution_count": 73,
   "metadata": {},
   "outputs": [
    {
     "data": {
      "text/html": [
       "<div>\n",
       "<style scoped>\n",
       "    .dataframe tbody tr th:only-of-type {\n",
       "        vertical-align: middle;\n",
       "    }\n",
       "\n",
       "    .dataframe tbody tr th {\n",
       "        vertical-align: top;\n",
       "    }\n",
       "\n",
       "    .dataframe thead th {\n",
       "        text-align: right;\n",
       "    }\n",
       "</style>\n",
       "<table border=\"1\" class=\"dataframe\">\n",
       "  <thead>\n",
       "    <tr style=\"text-align: right;\">\n",
       "      <th></th>\n",
       "      <th>name</th>\n",
       "      <th>date</th>\n",
       "      <th>cost</th>\n",
       "      <th>quantity</th>\n",
       "    </tr>\n",
       "  </thead>\n",
       "  <tbody>\n",
       "    <tr>\n",
       "      <th>0</th>\n",
       "      <td>bitcoin</td>\n",
       "      <td>2021-01-16</td>\n",
       "      <td>1000.0</td>\n",
       "      <td>0.3</td>\n",
       "    </tr>\n",
       "    <tr>\n",
       "      <th>1</th>\n",
       "      <td>ethereum</td>\n",
       "      <td>2021-02-20</td>\n",
       "      <td>2000.0</td>\n",
       "      <td>1.2</td>\n",
       "    </tr>\n",
       "    <tr>\n",
       "      <th>2</th>\n",
       "      <td>vechain</td>\n",
       "      <td>2021-01-10</td>\n",
       "      <td>400.0</td>\n",
       "      <td>3000.0</td>\n",
       "    </tr>\n",
       "    <tr>\n",
       "      <th>3</th>\n",
       "      <td>maker</td>\n",
       "      <td>2021-03-06</td>\n",
       "      <td>500.0</td>\n",
       "      <td>0.8</td>\n",
       "    </tr>\n",
       "  </tbody>\n",
       "</table>\n",
       "</div>"
      ],
      "text/plain": [
       "       name        date    cost  quantity\n",
       "0   bitcoin  2021-01-16  1000.0       0.3\n",
       "1  ethereum  2021-02-20  2000.0       1.2\n",
       "2   vechain  2021-01-10   400.0    3000.0\n",
       "3     maker  2021-03-06   500.0       0.8"
      ]
     },
     "execution_count": 73,
     "metadata": {},
     "output_type": "execute_result"
    }
   ],
   "source": [
    "# Check the transactions\n",
    "transactions"
   ]
  },
  {
   "cell_type": "code",
   "execution_count": 75,
   "metadata": {},
   "outputs": [
    {
     "data": {
      "text/plain": [
       "'mkr'"
      ]
     },
     "execution_count": 75,
     "metadata": {},
     "output_type": "execute_result"
    }
   ],
   "source": [
    "portfolio[\"maker\"][\"ticker\"]"
   ]
  },
  {
   "cell_type": "code",
   "execution_count": 76,
   "metadata": {},
   "outputs": [],
   "source": [
    "import pickle\n",
    "\n",
    "# let's save this portfolio to file\n",
    "user_portfolio = open(\"my_portfolio.pkl\", \"wb\")\n",
    "pickle.dump(portfolio, user_portfolio)\n",
    "user_portfolio.close()"
   ]
  },
  {
   "cell_type": "code",
   "execution_count": 77,
   "metadata": {},
   "outputs": [],
   "source": [
    "# Also save the transactions to file as we'll possibly need access to this too\n",
    "user_transactions = open(\"my_transactions.pkl\", \"wb\")\n",
    "pickle.dump(transactions, user_transactions)\n",
    "user_transactions.close()"
   ]
  },
  {
   "cell_type": "code",
   "execution_count": 78,
   "metadata": {},
   "outputs": [],
   "source": [
    "# let's check this can be read back in ok\n",
    "user_portfolio = open(\"my_portfolio.pkl\", \"rb\")\n",
    "load_port = pickle.load(user_portfolio)"
   ]
  },
  {
   "cell_type": "code",
   "execution_count": 80,
   "metadata": {},
   "outputs": [],
   "source": [
    "user_transactions = open(\"my_transactions.pkl\", \"rb\")\n",
    "load_transactions = pickle.load(user_transactions)"
   ]
  },
  {
   "cell_type": "code",
   "execution_count": 79,
   "metadata": {},
   "outputs": [
    {
     "data": {
      "text/plain": [
       "dict_keys(['bitcoin', 'maker', 'ethereum', 'vechain'])"
      ]
     },
     "execution_count": 79,
     "metadata": {},
     "output_type": "execute_result"
    }
   ],
   "source": [
    "load_port.keys()"
   ]
  },
  {
   "cell_type": "code",
   "execution_count": 81,
   "metadata": {},
   "outputs": [
    {
     "data": {
      "text/html": [
       "<div>\n",
       "<style scoped>\n",
       "    .dataframe tbody tr th:only-of-type {\n",
       "        vertical-align: middle;\n",
       "    }\n",
       "\n",
       "    .dataframe tbody tr th {\n",
       "        vertical-align: top;\n",
       "    }\n",
       "\n",
       "    .dataframe thead th {\n",
       "        text-align: right;\n",
       "    }\n",
       "</style>\n",
       "<table border=\"1\" class=\"dataframe\">\n",
       "  <thead>\n",
       "    <tr style=\"text-align: right;\">\n",
       "      <th></th>\n",
       "      <th>name</th>\n",
       "      <th>date</th>\n",
       "      <th>cost</th>\n",
       "      <th>quantity</th>\n",
       "    </tr>\n",
       "  </thead>\n",
       "  <tbody>\n",
       "    <tr>\n",
       "      <th>0</th>\n",
       "      <td>bitcoin</td>\n",
       "      <td>2021-01-16</td>\n",
       "      <td>1000.0</td>\n",
       "      <td>0.3</td>\n",
       "    </tr>\n",
       "    <tr>\n",
       "      <th>1</th>\n",
       "      <td>ethereum</td>\n",
       "      <td>2021-02-20</td>\n",
       "      <td>2000.0</td>\n",
       "      <td>1.2</td>\n",
       "    </tr>\n",
       "    <tr>\n",
       "      <th>2</th>\n",
       "      <td>vechain</td>\n",
       "      <td>2021-01-10</td>\n",
       "      <td>400.0</td>\n",
       "      <td>3000.0</td>\n",
       "    </tr>\n",
       "    <tr>\n",
       "      <th>3</th>\n",
       "      <td>maker</td>\n",
       "      <td>2021-03-06</td>\n",
       "      <td>500.0</td>\n",
       "      <td>0.8</td>\n",
       "    </tr>\n",
       "  </tbody>\n",
       "</table>\n",
       "</div>"
      ],
      "text/plain": [
       "       name        date    cost  quantity\n",
       "0   bitcoin  2021-01-16  1000.0       0.3\n",
       "1  ethereum  2021-02-20  2000.0       1.2\n",
       "2   vechain  2021-01-10   400.0    3000.0\n",
       "3     maker  2021-03-06   500.0       0.8"
      ]
     },
     "execution_count": 81,
     "metadata": {},
     "output_type": "execute_result"
    }
   ],
   "source": [
    "load_transactions"
   ]
  },
  {
   "cell_type": "code",
   "execution_count": 122,
   "metadata": {},
   "outputs": [
    {
     "data": {
      "text/plain": [
       "'2021-01-10'"
      ]
     },
     "execution_count": 122,
     "metadata": {},
     "output_type": "execute_result"
    }
   ],
   "source": [
    "transactions[transactions.name==\"vechain\"].iloc[0].date"
   ]
  },
  {
   "cell_type": "code",
   "execution_count": 82,
   "metadata": {},
   "outputs": [
    {
     "data": {
      "text/plain": [
       "[1620202026000, 54952.840484952074]"
      ]
     },
     "execution_count": 82,
     "metadata": {},
     "output_type": "execute_result"
    }
   ],
   "source": [
    "# Let's get the last bitcoin price to check nothing has been lost in the save/load process\n",
    "load_port[\"bitcoin\"][\"price_history\"][\"prices\"][-1] # ~54900 - OK!"
   ]
  },
  {
   "cell_type": "markdown",
   "metadata": {},
   "source": [
    "## User Terminal and Performance / Analysis\n",
    "\n",
    "The next section concentrates on matters post set up. So a user has a portfolio full of healthy coins and respective data. Now the user will want to review each coin's performance and pull up performance metrics and analysis."
   ]
  },
  {
   "cell_type": "code",
   "execution_count": 4,
   "metadata": {},
   "outputs": [],
   "source": [
    "load_port = open(\"my_portfolio.pkl\", \"rb\")\n",
    "portfolio = pickle.load(load_port)"
   ]
  },
  {
   "cell_type": "code",
   "execution_count": 10,
   "metadata": {},
   "outputs": [
    {
     "data": {
      "text/plain": [
       "['bitcoin', 'maker', 'ethereum', 'vechain']"
      ]
     },
     "execution_count": 10,
     "metadata": {},
     "output_type": "execute_result"
    }
   ],
   "source": [
    "list(portfolio.keys())"
   ]
  },
  {
   "cell_type": "markdown",
   "metadata": {},
   "source": [
    "### Performance"
   ]
  },
  {
   "cell_type": "code",
   "execution_count": 141,
   "metadata": {},
   "outputs": [],
   "source": [
    "def performance(data, timeframe, transactions, analysis):\n",
    "    \n",
    "    \"\"\"\n",
    "    This function calculates the performance of the requested crytpo currency\n",
    "    1. We calculate the coin growth as a percent\n",
    "    2. Over a time frame specified by the user (to be added)\n",
    "    \n",
    "    We return the growth as a %age and a dataframe of prices for the specified period\n",
    "    \n",
    "    transactions = the full transactions dataframe\n",
    "    data = the available price data for the requested coin\n",
    "    timeframe = the requested timeframe from the user\n",
    "    \"\"\"\n",
    "    \n",
    "    # First get todays date and the current month\n",
    "    now_date = datetime.date.today().strftime(\"%Y-%m-%d\")\n",
    "    now_month=now_date[5:7] # split out the month from the date\n",
    "    start_date='' # set an empty string to hold the start date\n",
    "    \n",
    "    \n",
    "    \n",
    "    if timeframe == \"30d\":\n",
    "    # For monthly queries we'll get the last 30days data\n",
    "        start_date = str(datetime.datetime.now() - datetime.timedelta(days=30))[:10] # slice to get date only\n",
    "    elif timeframe == \"90d\":\n",
    "    # For quarterly we'll get the last 90days\n",
    "        start_date = str(datetime.datetime.now() - datetime.timedelta(days=90))[:10]\n",
    "    elif timeframe == \"portfolio\":\n",
    "        start_date = transactions[transactions.name==\"vechain\"].iloc[0].date\n",
    "        \n",
    "        \n",
    "\n",
    "    # Query the latest monthly data using today's date and the previous 30days\n",
    "    monthly_data = data[data[\"date\"].between(start_date, now_date)]\n",
    "    \n",
    "    # set the open and close prices subject to the calculation\n",
    "    open_monthly = monthly_data.price[0]\n",
    "    close_monthly = monthly_data.price[-1]\n",
    "    \n",
    "    # Set a variable to hold the growth figure\n",
    "    percent_chg = 0\n",
    "    \n",
    "    # Calculate the growth depending on whether we have -ve or +ve growth for the period\n",
    "    if open_monthly > close_monthly:\n",
    "        percent_chg = -round(100 - ((100/open_monthly) * close_monthly), 2)\n",
    "    elif open_monthly < close_monthly:\n",
    "        percent_chg = round(((100/open_monthly) * close_monthly)-100, 2)\n",
    "    else: \n",
    "        percent_chg = 0\n",
    "      \n",
    "    # Return the growth figure and a dataframe for the period\n",
    "    return percent_chg, monthly_data"
   ]
  },
  {
   "cell_type": "markdown",
   "metadata": {},
   "source": [
    "## Coin Data\n",
    "Next we need to get the requested coin into dataframe format for easy querying and analysis etc"
   ]
  },
  {
   "cell_type": "code",
   "execution_count": 142,
   "metadata": {},
   "outputs": [],
   "source": [
    "def coin_data(portfolio, user_request):\n",
    "    \n",
    "    \"\"\"\n",
    "    This function builds a dataframe of data for the requested coin... this has room for simplification\n",
    "    \"\"\"\n",
    "    \n",
    "    \n",
    "    \n",
    "    ## We'll start basic - what percent is the investment up for the month \n",
    "    \n",
    "    data = portfolio[user_request][\"price_history\"]\n",
    "    #data.keys()\n",
    "    \n",
    "    # Extract metrics from the data\n",
    "    price = data[\"prices\"]\n",
    "    mkt_cap = data[\"market_caps\"]\n",
    "    volume = data[\"total_volumes\"]\n",
    "\n",
    "    # Save the individual metrics to variables\n",
    "    times = [item[0] for item in price]\n",
    "    prices = [item[1] for item in price]\n",
    "    mkt_caps = [item[1] for item in mkt_cap]\n",
    "    vols = [item[1] for item in volume]\n",
    "    \n",
    "    # Create the dataframe and populate the features\n",
    "    coin_df = pd.DataFrame(columns=[\"time\", \"price\", \"market_cap\", \"volume\"])\n",
    "    coin_df.time = times\n",
    "    coin_df.price = prices\n",
    "    coin_df.market_cap = mkt_caps\n",
    "    coin_df.volume = vols\n",
    "\n",
    "    # Change the time format to datetime and set it as the index\n",
    "    coin_df.time = pd.to_datetime(coin_df.time, unit=\"ms\")\n",
    "    coin_df.set_index(\"time\", inplace=True)\n",
    "    \n",
    "    # Create a date feature that holds only the date\n",
    "    coin_df[\"date\"] = pd.to_datetime(coin_df.index)\n",
    "    coin_df[\"date\"] = pd.to_datetime(coin_df.date).dt.date\n",
    "    coin_df.date = pd.to_datetime(coin_df.date)\n",
    "    \n",
    "    # We've created the dataframe for the specific coin - now we want to know the %age change for the month\n",
    "    \n",
    "    # percent_chg = performance(coin_df)\n",
    "\n",
    "    \n",
    "\n",
    "    \n",
    "    return coin_df, user_request\n",
    "    "
   ]
  },
  {
   "cell_type": "markdown",
   "metadata": {},
   "source": [
    "### Terminal\n",
    "Now we build a terminal for the user to request the data and metrics on a specific coin for a specific time frame"
   ]
  },
  {
   "cell_type": "code",
   "execution_count": 149,
   "metadata": {},
   "outputs": [],
   "source": [
    "def terminal(portfolio, transactions):\n",
    "    \n",
    "    \"\"\"\n",
    "    In this function we will use the data previously stored thro' the user setup and ask the user what they would \n",
    "    like to look at\n",
    "    1. Overall portfolio performance - call to another function \n",
    "    2. A specific coin performance - call to another function\n",
    "    \"\"\"\n",
    "    hodling = list(portfolio.keys())\n",
    "    analysis = input(\"What would you like to look at? Enter a coin name such as 'bitcoin' or type 'overall' \")\n",
    "    ### Need to add in a loop for invalid inputs - drop down menus on app?\n",
    "    \n",
    "    while analysis:\n",
    "        if analysis in hodling:\n",
    "            # We're good - you have that coin in your portfolio\n",
    "            break\n",
    "        else:\n",
    "            # We bad, you have entered an invalid coin - either a typo or you don't hodl it! \n",
    "            analysis = input(\"ERROR: You do not hodl that coin, please enter the name of a coin that you\\\n",
    "            hodl in your portfolio\")\n",
    "        \n",
    "    \n",
    "    ## This should be a drop down menu - #### Currently this question does not affect the output\n",
    "    timeframe = input(\"What timeframe would you like to review performance over? Enter 30d, 90d, portfolio\")\n",
    "    \n",
    "    while timeframe:\n",
    "        if timeframe == \"30d\" or timeframe == \"90d\" or timeframe == \"portfolio\":\n",
    "            # Accepted entries! we can move on\n",
    "            break\n",
    "        else:\n",
    "            timeframe = input(\"You have entered an invalid timeframe, please enter 30d, 90d or portfolio\\\n",
    "            to continue\")\n",
    "    \n",
    "    \n",
    "    # We pass the portfolio created in user setup and then the name of the coin the user has asked to look at\n",
    "    #### OVERALL to be added - Only works for individual coins ####\n",
    "    df, coin = coin_data(portfolio, analysis)\n",
    "    \n",
    "    percent_change, timeframe_data = performance(df, timeframe, transactions, analysis)\n",
    "    \n",
    "    if timeframe == \"30d\":\n",
    "        print(f'{coin} has had a {percent_change}% change this month!')\n",
    "    elif timeframe == \"90d\":\n",
    "        print(f'{coin} has had a {percent_change}% change this quarter!')\n",
    "    elif timeframe == \"portfolio\":\n",
    "        print(f'{coin} has had a {percent_change}% change since investment!')\n",
    "    \n",
    "    \n",
    "    # Plot out the requested coin price and time period\n",
    "    # plot the growth in the given time period\n",
    "    fig, ax = plt.subplots(figsize=(12,7))\n",
    "    #plt.figure(figsize=(12,7))\n",
    "    if timeframe_data.price.iloc[-1] > timeframe_data.price.iloc[0]:\n",
    "        ax.plot(timeframe_data.price, label=coin.capitalize()+\" price\", color=\"b\")\n",
    "    else:\n",
    "        ax.plot(timeframe_data.price, label=coin.capitalize()+\" price\", color=\"r\")\n",
    "    \n",
    "    ax.set_title(coin.capitalize()+\" price for current \" + timeframe + \" period\")\n",
    "    ax.set_xlabel(\"Date\")\n",
    "    ax.set_ylabel(\"Price(USD)\")\n",
    "    #plt.xticks(rotation=45)\n",
    "    fig.autofmt_xdate()\n",
    "    plt.legend();\n",
    "\n",
    "    return df, coin, percent_change, timeframe_data\n",
    "    "
   ]
  },
  {
   "cell_type": "code",
   "execution_count": 150,
   "metadata": {},
   "outputs": [
    {
     "name": "stdout",
     "output_type": "stream",
     "text": [
      "What would you like to look at? Enter a coin name such as 'bitcoin' or type 'overall' ethereum\n",
      "What timeframe would you like to review performance over? Enter 30d, 90d, portfolioportfolio\n",
      "ethereum has had a 105.23% change since investment!\n"
     ]
    },
    {
     "data": {
      "image/png": "[encoded data removed]",
      "text/plain": [
       "<Figure size 864x504 with 1 Axes>"
      ]
     },
     "metadata": {},
     "output_type": "display_data"
    }
   ],
   "source": [
    "data, coin_name, growth, monthly_data = terminal(portfolio, transactions)"
   ]
  },
  {
   "cell_type": "code",
   "execution_count": 74,
   "metadata": {},
   "outputs": [
    {
     "data": {
      "text/plain": [
       "dict_keys(['bitcoin', 'maker', 'ethereum', 'vechain'])"
      ]
     },
     "execution_count": 74,
     "metadata": {},
     "output_type": "execute_result"
    }
   ],
   "source": [
    "# Check the portfolio has been constructed correctly\n",
    "portfolio.keys()"
   ]
  },
  {
   "cell_type": "code",
   "execution_count": 24,
   "metadata": {},
   "outputs": [
    {
     "data": {
      "text/html": [
       "<div>\n",
       "<style scoped>\n",
       "    .dataframe tbody tr th:only-of-type {\n",
       "        vertical-align: middle;\n",
       "    }\n",
       "\n",
       "    .dataframe tbody tr th {\n",
       "        vertical-align: top;\n",
       "    }\n",
       "\n",
       "    .dataframe thead th {\n",
       "        text-align: right;\n",
       "    }\n",
       "</style>\n",
       "<table border=\"1\" class=\"dataframe\">\n",
       "  <thead>\n",
       "    <tr style=\"text-align: right;\">\n",
       "      <th></th>\n",
       "      <th>price</th>\n",
       "      <th>market_cap</th>\n",
       "      <th>volume</th>\n",
       "      <th>date</th>\n",
       "    </tr>\n",
       "    <tr>\n",
       "      <th>time</th>\n",
       "      <th></th>\n",
       "      <th></th>\n",
       "      <th></th>\n",
       "      <th></th>\n",
       "    </tr>\n",
       "  </thead>\n",
       "  <tbody>\n",
       "    <tr>\n",
       "      <th>2021-04-01 00:01:56.016</th>\n",
       "      <td>0.598147</td>\n",
       "      <td>3.329832e+08</td>\n",
       "      <td>2.696467e+06</td>\n",
       "      <td>2021-04-01</td>\n",
       "    </tr>\n",
       "    <tr>\n",
       "      <th>2021-04-01 01:11:00.676</th>\n",
       "      <td>0.586732</td>\n",
       "      <td>3.236048e+08</td>\n",
       "      <td>2.843161e+06</td>\n",
       "      <td>2021-04-01</td>\n",
       "    </tr>\n",
       "    <tr>\n",
       "      <th>2021-04-01 02:28:05.728</th>\n",
       "      <td>0.590454</td>\n",
       "      <td>3.259227e+08</td>\n",
       "      <td>2.798080e+06</td>\n",
       "      <td>2021-04-01</td>\n",
       "    </tr>\n",
       "    <tr>\n",
       "      <th>2021-04-01 03:19:42.205</th>\n",
       "      <td>0.587207</td>\n",
       "      <td>3.240970e+08</td>\n",
       "      <td>2.819015e+06</td>\n",
       "      <td>2021-04-01</td>\n",
       "    </tr>\n",
       "    <tr>\n",
       "      <th>2021-04-01 04:18:31.641</th>\n",
       "      <td>0.586669</td>\n",
       "      <td>3.235282e+08</td>\n",
       "      <td>2.740685e+06</td>\n",
       "      <td>2021-04-01</td>\n",
       "    </tr>\n",
       "    <tr>\n",
       "      <th>...</th>\n",
       "      <td>...</td>\n",
       "      <td>...</td>\n",
       "      <td>...</td>\n",
       "      <td>...</td>\n",
       "    </tr>\n",
       "    <tr>\n",
       "      <th>2021-04-27 05:13:40.945</th>\n",
       "      <td>0.465975</td>\n",
       "      <td>2.601670e+08</td>\n",
       "      <td>2.417981e+06</td>\n",
       "      <td>2021-04-27</td>\n",
       "    </tr>\n",
       "    <tr>\n",
       "      <th>2021-04-27 06:12:32.713</th>\n",
       "      <td>0.467762</td>\n",
       "      <td>2.587888e+08</td>\n",
       "      <td>2.410985e+06</td>\n",
       "      <td>2021-04-27</td>\n",
       "    </tr>\n",
       "    <tr>\n",
       "      <th>2021-04-27 07:11:51.998</th>\n",
       "      <td>0.476950</td>\n",
       "      <td>2.634273e+08</td>\n",
       "      <td>2.535400e+06</td>\n",
       "      <td>2021-04-27</td>\n",
       "    </tr>\n",
       "    <tr>\n",
       "      <th>2021-04-27 08:12:27.748</th>\n",
       "      <td>0.477633</td>\n",
       "      <td>2.629051e+08</td>\n",
       "      <td>2.522633e+06</td>\n",
       "      <td>2021-04-27</td>\n",
       "    </tr>\n",
       "    <tr>\n",
       "      <th>2021-04-27 08:50:38.000</th>\n",
       "      <td>0.477815</td>\n",
       "      <td>2.639539e+08</td>\n",
       "      <td>2.550820e+06</td>\n",
       "      <td>2021-04-27</td>\n",
       "    </tr>\n",
       "  </tbody>\n",
       "</table>\n",
       "<p>636 rows × 4 columns</p>\n",
       "</div>"
      ],
      "text/plain": [
       "                            price    market_cap        volume       date\n",
       "time                                                                    \n",
       "2021-04-01 00:01:56.016  0.598147  3.329832e+08  2.696467e+06 2021-04-01\n",
       "2021-04-01 01:11:00.676  0.586732  3.236048e+08  2.843161e+06 2021-04-01\n",
       "2021-04-01 02:28:05.728  0.590454  3.259227e+08  2.798080e+06 2021-04-01\n",
       "2021-04-01 03:19:42.205  0.587207  3.240970e+08  2.819015e+06 2021-04-01\n",
       "2021-04-01 04:18:31.641  0.586669  3.235282e+08  2.740685e+06 2021-04-01\n",
       "...                           ...           ...           ...        ...\n",
       "2021-04-27 05:13:40.945  0.465975  2.601670e+08  2.417981e+06 2021-04-27\n",
       "2021-04-27 06:12:32.713  0.467762  2.587888e+08  2.410985e+06 2021-04-27\n",
       "2021-04-27 07:11:51.998  0.476950  2.634273e+08  2.535400e+06 2021-04-27\n",
       "2021-04-27 08:12:27.748  0.477633  2.629051e+08  2.522633e+06 2021-04-27\n",
       "2021-04-27 08:50:38.000  0.477815  2.639539e+08  2.550820e+06 2021-04-27\n",
       "\n",
       "[636 rows x 4 columns]"
      ]
     },
     "execution_count": 24,
     "metadata": {},
     "output_type": "execute_result"
    }
   ],
   "source": [
    "monthly_data"
   ]
  },
  {
   "cell_type": "code",
   "execution_count": 35,
   "metadata": {},
   "outputs": [],
   "source": [
    "coin_df, user_request = coin_data(portfolio, \"maker\")"
   ]
  },
  {
   "cell_type": "code",
   "execution_count": 36,
   "metadata": {},
   "outputs": [
    {
     "data": {
      "text/html": [
       "<div>\n",
       "<style scoped>\n",
       "    .dataframe tbody tr th:only-of-type {\n",
       "        vertical-align: middle;\n",
       "    }\n",
       "\n",
       "    .dataframe tbody tr th {\n",
       "        vertical-align: top;\n",
       "    }\n",
       "\n",
       "    .dataframe thead th {\n",
       "        text-align: right;\n",
       "    }\n",
       "</style>\n",
       "<table border=\"1\" class=\"dataframe\">\n",
       "  <thead>\n",
       "    <tr style=\"text-align: right;\">\n",
       "      <th></th>\n",
       "      <th>price</th>\n",
       "      <th>market_cap</th>\n",
       "      <th>volume</th>\n",
       "      <th>date</th>\n",
       "    </tr>\n",
       "    <tr>\n",
       "      <th>time</th>\n",
       "      <th></th>\n",
       "      <th></th>\n",
       "      <th></th>\n",
       "      <th></th>\n",
       "    </tr>\n",
       "  </thead>\n",
       "  <tbody>\n",
       "    <tr>\n",
       "      <th>2021-01-27 09:19:52.244</th>\n",
       "      <td>1359.213580</td>\n",
       "      <td>1.234087e+09</td>\n",
       "      <td>1.400812e+08</td>\n",
       "      <td>2021-01-27</td>\n",
       "    </tr>\n",
       "    <tr>\n",
       "      <th>2021-01-27 09:47:14.003</th>\n",
       "      <td>1353.132211</td>\n",
       "      <td>1.218654e+09</td>\n",
       "      <td>1.403934e+08</td>\n",
       "      <td>2021-01-27</td>\n",
       "    </tr>\n",
       "    <tr>\n",
       "      <th>2021-01-27 10:24:22.950</th>\n",
       "      <td>1351.313784</td>\n",
       "      <td>1.219068e+09</td>\n",
       "      <td>1.393702e+08</td>\n",
       "      <td>2021-01-27</td>\n",
       "    </tr>\n",
       "    <tr>\n",
       "      <th>2021-01-27 11:04:32.489</th>\n",
       "      <td>1353.372249</td>\n",
       "      <td>1.221330e+09</td>\n",
       "      <td>1.388727e+08</td>\n",
       "      <td>2021-01-27</td>\n",
       "    </tr>\n",
       "    <tr>\n",
       "      <th>2021-01-27 12:05:16.739</th>\n",
       "      <td>1334.780808</td>\n",
       "      <td>1.223145e+09</td>\n",
       "      <td>1.377057e+08</td>\n",
       "      <td>2021-01-27</td>\n",
       "    </tr>\n",
       "    <tr>\n",
       "      <th>...</th>\n",
       "      <td>...</td>\n",
       "      <td>...</td>\n",
       "      <td>...</td>\n",
       "      <td>...</td>\n",
       "    </tr>\n",
       "    <tr>\n",
       "      <th>2021-04-28 18:01:58.000</th>\n",
       "      <td>4490.679152</td>\n",
       "      <td>4.058335e+09</td>\n",
       "      <td>3.242839e+08</td>\n",
       "      <td>2021-04-28</td>\n",
       "    </tr>\n",
       "    <tr>\n",
       "      <th>2021-04-28 18:08:26.000</th>\n",
       "      <td>4509.032355</td>\n",
       "      <td>4.074392e+09</td>\n",
       "      <td>3.255389e+08</td>\n",
       "      <td>2021-04-28</td>\n",
       "    </tr>\n",
       "    <tr>\n",
       "      <th>2021-04-28 18:13:26.000</th>\n",
       "      <td>4512.287051</td>\n",
       "      <td>4.065213e+09</td>\n",
       "      <td>3.262244e+08</td>\n",
       "      <td>2021-04-28</td>\n",
       "    </tr>\n",
       "    <tr>\n",
       "      <th>2021-04-28 18:17:45.000</th>\n",
       "      <td>4502.426157</td>\n",
       "      <td>4.065213e+09</td>\n",
       "      <td>3.257696e+08</td>\n",
       "      <td>2021-04-28</td>\n",
       "    </tr>\n",
       "    <tr>\n",
       "      <th>2021-04-28 18:21:52.000</th>\n",
       "      <td>4505.382814</td>\n",
       "      <td>4.059040e+09</td>\n",
       "      <td>3.261577e+08</td>\n",
       "      <td>2021-04-28</td>\n",
       "    </tr>\n",
       "  </tbody>\n",
       "</table>\n",
       "<p>2220 rows × 4 columns</p>\n",
       "</div>"
      ],
      "text/plain": [
       "                               price    market_cap        volume       date\n",
       "time                                                                       \n",
       "2021-01-27 09:19:52.244  1359.213580  1.234087e+09  1.400812e+08 2021-01-27\n",
       "2021-01-27 09:47:14.003  1353.132211  1.218654e+09  1.403934e+08 2021-01-27\n",
       "2021-01-27 10:24:22.950  1351.313784  1.219068e+09  1.393702e+08 2021-01-27\n",
       "2021-01-27 11:04:32.489  1353.372249  1.221330e+09  1.388727e+08 2021-01-27\n",
       "2021-01-27 12:05:16.739  1334.780808  1.223145e+09  1.377057e+08 2021-01-27\n",
       "...                              ...           ...           ...        ...\n",
       "2021-04-28 18:01:58.000  4490.679152  4.058335e+09  3.242839e+08 2021-04-28\n",
       "2021-04-28 18:08:26.000  4509.032355  4.074392e+09  3.255389e+08 2021-04-28\n",
       "2021-04-28 18:13:26.000  4512.287051  4.065213e+09  3.262244e+08 2021-04-28\n",
       "2021-04-28 18:17:45.000  4502.426157  4.065213e+09  3.257696e+08 2021-04-28\n",
       "2021-04-28 18:21:52.000  4505.382814  4.059040e+09  3.261577e+08 2021-04-28\n",
       "\n",
       "[2220 rows x 4 columns]"
      ]
     },
     "execution_count": 36,
     "metadata": {},
     "output_type": "execute_result"
    }
   ],
   "source": [
    "coin_df"
   ]
  },
  {
   "cell_type": "code",
   "execution_count": 37,
   "metadata": {},
   "outputs": [
    {
     "data": {
      "text/plain": [
       "'maker'"
      ]
     },
     "execution_count": 37,
     "metadata": {},
     "output_type": "execute_result"
    }
   ],
   "source": [
    "user_request"
   ]
  },
  {
   "cell_type": "code",
   "execution_count": 38,
   "metadata": {},
   "outputs": [],
   "source": [
    "now_date = datetime.date.today().strftime(\"%Y-%m-%d\")"
   ]
  },
  {
   "cell_type": "code",
   "execution_count": 39,
   "metadata": {},
   "outputs": [
    {
     "data": {
      "text/plain": [
       "'2021-05-04'"
      ]
     },
     "execution_count": 39,
     "metadata": {},
     "output_type": "execute_result"
    }
   ],
   "source": [
    "now_date"
   ]
  },
  {
   "cell_type": "code",
   "execution_count": 44,
   "metadata": {},
   "outputs": [
    {
     "name": "stdout",
     "output_type": "stream",
     "text": [
      "<class 'pandas.core.frame.DataFrame'>\n",
      "DatetimeIndex: 0 entries\n",
      "Data columns (total 4 columns):\n",
      " #   Column      Non-Null Count  Dtype         \n",
      "---  ------      --------------  -----         \n",
      " 0   price       0 non-null      float64       \n",
      " 1   market_cap  0 non-null      float64       \n",
      " 2   volume      0 non-null      float64       \n",
      " 3   date        0 non-null      datetime64[ns]\n",
      "dtypes: datetime64[ns](1), float64(3)\n",
      "memory usage: 80.0 bytes\n"
     ]
    }
   ],
   "source": [
    "monthly_data.info()"
   ]
  },
  {
   "cell_type": "code",
   "execution_count": 49,
   "metadata": {},
   "outputs": [
    {
     "data": {
      "text/plain": [
       "'2021-05-04'"
      ]
     },
     "execution_count": 49,
     "metadata": {},
     "output_type": "execute_result"
    }
   ],
   "source": [
    "str(datetime.datetime.now())[:10]"
   ]
  },
  {
   "cell_type": "code",
   "execution_count": 54,
   "metadata": {},
   "outputs": [],
   "source": [
    "start_date = str(datetime.datetime.now() - datetime.timedelta(days=30))[:10]"
   ]
  },
  {
   "cell_type": "code",
   "execution_count": null,
   "metadata": {},
   "outputs": [],
   "source": []
  },
  {
   "cell_type": "code",
   "execution_count": 55,
   "metadata": {},
   "outputs": [],
   "source": [
    "now_month=now_date[5:7] # split out the month from the date\n",
    "\n",
    "# Query the latest monthly data using today's date and the current month\n",
    "monthly_data = coin_df[coin_df[\"date\"].between(start_date, now_date)]"
   ]
  },
  {
   "cell_type": "code",
   "execution_count": 140,
   "metadata": {},
   "outputs": [
    {
     "data": {
      "text/plain": [
       "['bitcoin', 'maker', 'ethereum', 'vechain']"
      ]
     },
     "execution_count": 140,
     "metadata": {},
     "output_type": "execute_result"
    }
   ],
   "source": [
    "list(portfolio.keys())"
   ]
  },
  {
   "cell_type": "code",
   "execution_count": null,
   "metadata": {},
   "outputs": [],
   "source": []
  }
 ],
 "metadata": {
  "kernelspec": {
   "display_name": "learn-env",
   "language": "python",
   "name": "learn-env"
  },
  "language_info": {
   "codemirror_mode": {
    "name": "ipython",
    "version": 3
   },
   "file_extension": ".py",
   "mimetype": "text/x-python",
   "name": "python",
   "nbconvert_exporter": "python",
   "pygments_lexer": "ipython3",
   "version": "3.6.6"
  }
 },
 "nbformat": 4,
 "nbformat_minor": 4
}
